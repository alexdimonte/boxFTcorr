{
 "cells": [
  {
   "cell_type": "code",
   "execution_count": 293,
   "metadata": {},
   "outputs": [],
   "source": [
    "import numpy as np"
   ]
  },
  {
   "cell_type": "code",
   "execution_count": 317,
   "metadata": {},
   "outputs": [],
   "source": [
    "#2-dimensional calculation\n",
    "n = 10000000\n",
    "hg = 75                                       #insert z height aliquot\n",
    "sd = 13.725                                    #stopping distance, below\n",
    "th = np.random.random(n)* 180 + -90           #generates angle\n",
    "rad = np.deg2rad(th)\n",
    "z = np.random.random(n)* hg + -hg             #generates initial z pos\n",
    "c = sd*np.cos(rad)                         #z direction magnitude\n",
    "s = z+c"
   ]
  },
  {
   "cell_type": "code",
   "execution_count": 318,
   "metadata": {},
   "outputs": [
    {
     "name": "stdout",
     "output_type": "stream",
     "text": [
      "0.8835759\n"
     ]
    }
   ],
   "source": [
    "#2 dimensional calculation\n",
    "v = (s > 0).sum()\n",
    "FT = 1-(v/n)\n",
    "\n",
    "print(FT)\n",
    "    "
   ]
  },
  {
   "cell_type": "code",
   "execution_count": 305,
   "metadata": {},
   "outputs": [],
   "source": [
    "#3-dimensional calculation\n",
    "n = 10000000\n",
    "sdU = 13.605                                       #stopping dist hematite U238/U235 abundances\n",
    "sdTh = 16.04                                       #stopping dist hematite Th \n",
    "rat = 0.052                                        #insert th/u ratio\n",
    "hg = 75                                            #insert z height aliquot\n",
    "sd = (sdU*(1/(1+rat))) + (sdTh*(rat/(1+rat)))      #calculates average stopping distance\n",
    "th = np.random.random(n)* 360 + -180               #generates polar angle\n",
    "ph = np.random.random(n)* 360 + -180               #generates azimuth angle\n",
    "radth = np.deg2rad(th)\n",
    "radph = np.deg2rad(ph)\n",
    "x = np.random.random(n)                            #generates initial x pos\n",
    "y = np.random.random(n)                            #generates initial y pos\n",
    "z = np.random.random(n)* hg + -hg                  #generates initial z pos\n",
    "a = sd*np.cos(radph)*np.sin(radth)                 #x direction magnitude\n",
    "b = sd*np.sin(radph)*np.sin(radth)                 #y direction magnitude\n",
    "c = sd*np.cos(radth)                               #z direction magnitude\n",
    "s = (x+a, y+b, z+c)\n",
    "q = np.sqrt(a*a + b*b + c*c)\n",
    "sq = z+c                                           #z-direction new position\n",
    "#print(sq)\n",
    "#print(s)"
   ]
  },
  {
   "cell_type": "code",
   "execution_count": 306,
   "metadata": {},
   "outputs": [
    {
     "name": "stdout",
     "output_type": "stream",
     "text": [
      "0.941742\n",
      "0.8835369\n"
     ]
    }
   ],
   "source": [
    "#3-dimensional calculation\n",
    "vec = (sq>0).sum()             #loss in +z dir\n",
    "#print (vec)\n",
    "nvec = (sq<-hg).sum()          #loss in -z dir if not balanced\n",
    "#print (nvec)\n",
    "case = vec+nvec                #if both\n",
    "FT = 1-(vec/n)                 #FT if one side balanced\n",
    "FTboth = 1-(case/n)            #FT if He loss both sides\n",
    "\n",
    "print(FT)\n",
    "print(FTboth)"
   ]
  },
  {
   "cell_type": "code",
   "execution_count": null,
   "metadata": {},
   "outputs": [],
   "source": []
  }
 ],
 "metadata": {
  "kernelspec": {
   "display_name": "Python 3",
   "language": "python",
   "name": "python3"
  },
  "language_info": {
   "codemirror_mode": {
    "name": "ipython",
    "version": 3
   },
   "file_extension": ".py",
   "mimetype": "text/x-python",
   "name": "python",
   "nbconvert_exporter": "python",
   "pygments_lexer": "ipython3",
   "version": "3.8.3"
  }
 },
 "nbformat": 4,
 "nbformat_minor": 4
}
