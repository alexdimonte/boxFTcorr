{
 "cells": [
  {
   "cell_type": "code",
   "execution_count": 1,
   "metadata": {},
   "outputs": [],
   "source": [
    "import numpy as np"
   ]
  },
  {
   "cell_type": "code",
   "execution_count": 2,
   "metadata": {},
   "outputs": [],
   "source": [
    "n = 10000000\n",
    "rat = 0.052                                              #insert th/u ratio\n",
    "hg = 75                                                  #insert z height aliquot\n",
    "lt = 10000                                               #insert x height aliquot\n",
    "wt = 10000                                               #insert y height aliquot\n",
    "sdU = 13.605                                             #stopping dist hematite U238/U235 abundances\n",
    "sdTh = 16.04                                             #stopping dist hematite Th \n",
    "sd = (sdU*(1/(1+rat))) + (sdTh*(rat/(1+rat)))            #calculates average stopping distance"
   ]
  },
  {
   "cell_type": "code",
   "execution_count": 4,
   "metadata": {},
   "outputs": [
    {
     "name": "stdout",
     "output_type": "stream",
     "text": [
      "582150\n",
      "580612\n",
      "2767\n",
      "2730\n",
      "2753\n",
      "2699\n",
      "0.941785\n",
      "0.8837238000000001\n",
      "0.8826289\n"
     ]
    }
   ],
   "source": [
    "#3-dimensional calculation\n",
    "\n",
    "threedth = np.random.random(n)* 360 + -180               #generates polar angle\n",
    "threedph = np.random.random(n)* 360 + -180               #generates azimuth angle\n",
    "radth = np.deg2rad(threedth)\n",
    "radph = np.deg2rad(threedph)\n",
    "x = np.random.random(n)* lt + 0                          #generates initial x pos\n",
    "y = np.random.random(n)* wt + 0                          #generates initial y pos\n",
    "z = np.random.random(n)* hg + -hg                        #generates initial z pos\n",
    "a = sd*np.cos(radph)*np.sin(radth)                       #x direction magnitude\n",
    "b = sd*np.sin(radph)*np.sin(radth)                       #y direction magnitude\n",
    "c = sd*np.cos(radth)                                     #z direction magnitude\n",
    "s = (x+a, y+b, z+c)\n",
    "q = np.sqrt(a*a + b*b + c*c)\n",
    "sq = z+c                                                 #z-direction new position\n",
    "xq = x+a\n",
    "yq = y+b\n",
    "\n",
    "vec = (sq > 0).sum()                                     #loss in +z dir\n",
    "nvec = (sq < -hg).sum()                                  #loss in -z dir if not balanced\n",
    "xvec = (xq < 0).sum()\n",
    "xxvec = (xq > 10000).sum()\n",
    "yvec = (yq < 0).sum()\n",
    "yyvec = (yq > 10000).sum()\n",
    "case = vec+nvec                                          #if both\n",
    "FT = 1-(vec/n)                                           #FT if one side balanced\n",
    "FTneither = 1-(case/n)                                   #FT if He loss both sides\n",
    "big = vec + nvec + xvec + xxvec + yvec + yyvec\n",
    "bigFT = 1-(big/n)\n",
    "\n",
    "#print(x)\n",
    "#print(s)\n",
    "print(vec)\n",
    "print(nvec)\n",
    "print(xvec)\n",
    "print(xxvec)\n",
    "print(yvec)\n",
    "print(yyvec)\n",
    "print(FT)\n",
    "print(FTneither)\n",
    "print(bigFT)"
   ]
  },
  {
   "cell_type": "code",
   "execution_count": null,
   "metadata": {},
   "outputs": [],
   "source": []
  },
  {
   "cell_type": "code",
   "execution_count": null,
   "metadata": {},
   "outputs": [],
   "source": []
  },
  {
   "cell_type": "code",
   "execution_count": null,
   "metadata": {},
   "outputs": [],
   "source": []
  }
 ],
 "metadata": {
  "kernelspec": {
   "display_name": "Python 3 (ipykernel)",
   "language": "python",
   "name": "python3"
  },
  "language_info": {
   "codemirror_mode": {
    "name": "ipython",
    "version": 3
   },
   "file_extension": ".py",
   "mimetype": "text/x-python",
   "name": "python",
   "nbconvert_exporter": "python",
   "pygments_lexer": "ipython3",
   "version": "3.10.16"
  }
 },
 "nbformat": 4,
 "nbformat_minor": 4
}
